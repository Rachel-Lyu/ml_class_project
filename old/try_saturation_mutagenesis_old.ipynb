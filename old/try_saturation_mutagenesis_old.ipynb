{
 "cells": [
  {
   "cell_type": "code",
   "execution_count": 1,
   "id": "686d44d0-fb35-4184-9df5-77795f5d9f58",
   "metadata": {},
   "outputs": [],
   "source": [
    "#####\n",
    "import seq_functions\n",
    "from tensorflow.keras.models import load_model\n",
    "#from clr_callback import *\n",
    "from sklearn import metrics\n",
    "from Bio import SeqIO\n",
    "\n",
    "import tensorflow as tf\n",
    "# import tensorflow.keras.backend as K\n",
    "import matplotlib; matplotlib.use('agg')\n",
    "import matplotlib.pyplot as plt\n",
    "import pandas as pd\n",
    "import numpy as np\n",
    "import argparse\n",
    "import math\n",
    "import os\n",
    "\n",
    "import time\n",
    "\n",
    "\n",
    "model_name = '/home/mleone2/ml_class_project/pretrained_models/Mo2015_EXCpos_Ctx_fold1/Mo2015_EXCpos_Ctx_fold1_OCP_NB1000_NE23_BR0.01_MR0.1_BM0.85_MM0.99_DO0.1.h5'\n",
    "path = '/home/mleone2/ml_class_project/results/'\n",
    "fasta_name = 'random_seqs_test'\n",
    "full_fasta = path + fasta_name + '.fa' "
   ]
  },
  {
   "cell_type": "code",
   "execution_count": 3,
   "id": "50320398-f666-4194-91de-58dbcccf3000",
   "metadata": {},
   "outputs": [
    {
     "name": "stdout",
     "output_type": "stream",
     "text": [
      "load model then predict for 100 sequences\n",
      "loading model\n",
      "predict for 100 sequences\n",
      "3.8858120441436768 seconds\n"
     ]
    }
   ],
   "source": [
    "some_seqs = seq_functions.get_fasta_some_seqs(full_fasta, 100, 501)\n",
    "print('load model then predict for 100 sequences')\n",
    "print('loading model')\n",
    "model = load_model(model_name, compile=False)\n",
    "print('predict for 100 sequences')\n",
    "t1 = time.time()\n",
    "predictions = seq_functions.quick_predict_sequences(model, some_seqs)\n",
    "t2 = time.time()\n",
    "print(str(t2-t1) + ' seconds')"
   ]
  },
  {
   "cell_type": "code",
   "execution_count": null,
   "id": "05609c38-432b-4bd1-a646-70526a910fcd",
   "metadata": {
    "tags": []
   },
   "outputs": [],
   "source": [
    "# print('save predictions')\n",
    "# # prediction_file = path + fasta_name + '_predictions' + '.txt'\n",
    "# np.savetxt(prediction_file, predictions)\n",
    "# print('done')"
   ]
  },
  {
   "cell_type": "code",
   "execution_count": 1,
   "id": "c1028eec-efaa-4f9e-b6ec-e1bae6cec03d",
   "metadata": {},
   "outputs": [
    {
     "ename": "NameError",
     "evalue": "name 'time' is not defined",
     "output_type": "error",
     "traceback": [
      "\u001b[0;31m---------------------------------------------------------------------------\u001b[0m",
      "\u001b[0;31mNameError\u001b[0m                                 Traceback (most recent call last)",
      "\u001b[0;32m/tmp/ipykernel_227249/1260114801.py\u001b[0m in \u001b[0;36m<module>\u001b[0;34m\u001b[0m\n\u001b[1;32m     42\u001b[0m \u001b[0;34m\u001b[0m\u001b[0m\n\u001b[1;32m     43\u001b[0m \u001b[0;34m\u001b[0m\u001b[0m\n\u001b[0;32m---> 44\u001b[0;31m \u001b[0mt3\u001b[0m \u001b[0;34m=\u001b[0m \u001b[0mtime\u001b[0m\u001b[0;34m.\u001b[0m\u001b[0mtime\u001b[0m\u001b[0;34m(\u001b[0m\u001b[0;34m)\u001b[0m\u001b[0;34m\u001b[0m\u001b[0;34m\u001b[0m\u001b[0m\n\u001b[0m\u001b[1;32m     45\u001b[0m \u001b[0msome_seqs_mutated\u001b[0m \u001b[0;34m=\u001b[0m \u001b[0msaturation_mutate\u001b[0m\u001b[0;34m(\u001b[0m\u001b[0msome_seqs\u001b[0m\u001b[0;34m)\u001b[0m\u001b[0;34m\u001b[0m\u001b[0;34m\u001b[0m\u001b[0m\n\u001b[1;32m     46\u001b[0m \u001b[0;31m#one_shift = saturation_mutate(some_seqs)\u001b[0m\u001b[0;34m\u001b[0m\u001b[0;34m\u001b[0m\u001b[0;34m\u001b[0m\u001b[0m\n",
      "\u001b[0;31mNameError\u001b[0m: name 'time' is not defined"
     ]
    }
   ],
   "source": [
    "def saturation_mutate(seqs):\n",
    "    \n",
    "    # repeat sequences 4 times, for every base per position\n",
    "    og_string_len = seqs.shape[1]\n",
    "    # need 4 * og_string_len versions of each sequences\n",
    "    seqs_repeated = np.repeat(seqs, 4*og_string_len, axis=0)\n",
    "    \n",
    "    ## og shift - shifting to build off\n",
    "    og_shift = np.asarray([1+4*n*og_string_len for n in range(math.floor((len(seqs_repeated))/(4*og_string_len)))])\n",
    "    \n",
    "    \n",
    "    for string_id in range(og_string_len):\n",
    "    \n",
    "        one_shift = og_shift + 4*string_id\n",
    "        two_shift = one_shift + 1\n",
    "        three_shift = one_shift + 2\n",
    "        \n",
    "        if string_id % 10 == 0:\n",
    "            print(string_id)\n",
    "            \n",
    "        print(seqs_repeated[:,:,:].shape)\n",
    "        print(seqs_repeated[one_shift,[1,2],:].shape)\n",
    "        print(seqs_repeated[one_shift,[1],:].shape)\n",
    "        exit()\n",
    "        seqs_repeated[one_shift,[string_id],:] = np.concatenate((np.expand_dims(seqs_repeated[one_shift,[string_id],-1],2), \n",
    "                                                   seqs_repeated[one_shift,[string_id],:-1]),2)\n",
    "        seqs_repeated[two_shift,[string_id],:] = np.concatenate((seqs_repeated[two_shift,[string_id],-2:], \n",
    "                                                   seqs_repeated[two_shift,string_id,:-2]),2)\n",
    "        seqs_repeated[three_shift,[string_id],:] = np.concatenate((seqs_repeated[three_shift,[string_id],-3:], \n",
    "                                                   seqs_repeated[three_shift,string_id,:-3]),2)\n",
    "\n",
    "    return seqs_repeated\n",
    "\n",
    "# def saturation_mutagenesis(seqs,model, iterations):\n",
    "    \n",
    "#     for step in iterations:\n",
    "#         seqs_mutated = saturation_mutate(seqs)\n",
    "#         fitness = model.predict(seqs_mutated)\n",
    "        \n",
    "#         for seq_id in range(seqs.shape[0]):\n",
    "#             seq_to_keep = np.argmax(fitness[seq_id*4:])\n",
    "            \n",
    "    \n",
    "            \n",
    "            \n",
    "t3 = time.time()\n",
    "some_seqs_mutated = saturation_mutate(some_seqs)\n",
    "#one_shift = saturation_mutate(some_seqs)\n",
    "t4 = time.time()\n",
    "print(t4-t3)"
   ]
  },
  {
   "cell_type": "code",
   "execution_count": 25,
   "id": "a04eafca-4096-4bf3-b9d4-04beeeb7c2d7",
   "metadata": {},
   "outputs": [],
   "source": [
    "seqs_repeated = np.repeat(some_seqs, 4, axis=0)\n",
    "    \n",
    "# shift positions [1,5,9,...] once, [2,6,10,..] twice, [3,7,11,...] three times\n",
    "one_shift = np.asarray([1+4*n for n in range(math.floor((len(seqs_repeated))/4))])\n",
    "two_shift = one_shift + 1\n",
    "three_shift = one_shift + 2"
   ]
  },
  {
   "cell_type": "code",
   "execution_count": 43,
   "id": "904a763b-b25d-4b87-aa8e-416c1824b719",
   "metadata": {},
   "outputs": [
    {
     "name": "stdout",
     "output_type": "stream",
     "text": [
      "\n",
      "\n",
      "[0 0 1 0]\n",
      "\n",
      "[0 0 1 0]\n",
      "[0 0 0 1]\n",
      "[1 0 0 0]\n",
      "[0 1 0 0]\n",
      "\n",
      "\n",
      "[0 0 0 1]\n",
      "\n",
      "[0 0 0 1]\n",
      "[1 0 0 0]\n",
      "[0 1 0 0]\n",
      "[0 0 1 0]\n",
      "\n",
      "\n",
      "[1 0 0 0]\n",
      "\n",
      "[1 0 0 0]\n",
      "[0 1 0 0]\n",
      "[0 0 1 0]\n",
      "[0 0 0 1]\n",
      "\n",
      "\n",
      "[1 0 0 0]\n",
      "\n",
      "[1 0 0 0]\n",
      "[0 1 0 0]\n",
      "[0 0 1 0]\n",
      "[0 0 0 1]\n",
      "\n",
      "\n",
      "[0 0 1 0]\n",
      "\n",
      "[0 0 1 0]\n",
      "[0 0 0 1]\n",
      "[1 0 0 0]\n",
      "[0 1 0 0]\n",
      "\n",
      "\n",
      "[0 1 0 0]\n",
      "\n",
      "[0 1 0 0]\n",
      "[0 0 1 0]\n",
      "[0 0 0 1]\n",
      "[1 0 0 0]\n",
      "\n",
      "\n",
      "[1 0 0 0]\n",
      "\n",
      "[1 0 0 0]\n",
      "[0 1 0 0]\n",
      "[0 0 1 0]\n",
      "[0 0 0 1]\n",
      "\n",
      "\n",
      "[0 0 1 0]\n",
      "\n",
      "[0 0 1 0]\n",
      "[0 0 0 1]\n",
      "[1 0 0 0]\n",
      "[0 1 0 0]\n",
      "\n",
      "\n",
      "[0 0 0 1]\n",
      "\n",
      "[0 0 0 1]\n",
      "[1 0 0 0]\n",
      "[0 1 0 0]\n",
      "[0 0 1 0]\n",
      "\n",
      "\n",
      "[0 0 1 0]\n",
      "\n",
      "[0 0 1 0]\n",
      "[0 0 0 1]\n",
      "[1 0 0 0]\n",
      "[0 1 0 0]\n"
     ]
    }
   ],
   "source": [
    "for jj in range(0,10): \n",
    "    print('')\n",
    "    print('')\n",
    "    print(some_seqs[1,jj,:])\n",
    "    print('')\n",
    "    for ii in [0,1,2,3]:\n",
    "        print(some_seqs_mutated[ii+4,jj,:])\n"
   ]
  },
  {
   "cell_type": "code",
   "execution_count": 27,
   "id": "fa046adf-b52b-489e-b3ae-c3f4a374ece3",
   "metadata": {},
   "outputs": [
    {
     "ename": "AxisError",
     "evalue": "axis 2 is out of bounds for array of dimension 2",
     "output_type": "error",
     "traceback": [
      "\u001b[0;31m---------------------------------------------------------------------------\u001b[0m",
      "\u001b[0;31mAxisError\u001b[0m                                 Traceback (most recent call last)",
      "\u001b[0;32m/tmp/ipykernel_201426/1747900308.py\u001b[0m in \u001b[0;36m<module>\u001b[0;34m\u001b[0m\n\u001b[1;32m      1\u001b[0m seqs_repeated[two_shift,:,:] = np.concatenate((seqs_repeated[two_shift,:,-2], \n\u001b[0;32m----> 2\u001b[0;31m                                                seqs_repeated[two_shift,:,:-2]),2)\n\u001b[0m",
      "\u001b[0;31mAxisError\u001b[0m: axis 2 is out of bounds for array of dimension 2"
     ]
    }
   ],
   "source": [
    "    seqs_repeated[two_shift,:,:] = np.concatenate((seqs_repeated[two_shift,:,-2], \n",
    "                                                   seqs_repeated[two_shift,:,:-2]),2)"
   ]
  },
  {
   "cell_type": "code",
   "execution_count": 29,
   "id": "212df828-ebf3-4323-86e8-c494acaf113f",
   "metadata": {},
   "outputs": [
    {
     "data": {
      "text/plain": [
       "(100, 501, 2)"
      ]
     },
     "execution_count": 29,
     "metadata": {},
     "output_type": "execute_result"
    }
   ],
   "source": [
    "seqs_repeated[two_shift,:,-2:].shape"
   ]
  },
  {
   "cell_type": "code",
   "execution_count": 17,
   "id": "67b4dae1-2f9d-4e8b-a3a2-7314e18bcc52",
   "metadata": {},
   "outputs": [
    {
     "data": {
      "text/plain": [
       "(100, 501, 1)"
      ]
     },
     "execution_count": 17,
     "metadata": {},
     "output_type": "execute_result"
    }
   ],
   "source": [
    "np.expand_dims(some_seqs_repeated[one_shift,:,-1], 2).shape"
   ]
  },
  {
   "cell_type": "code",
   "execution_count": 14,
   "id": "46d20ed7-cd20-4799-a598-1205fe4b59b4",
   "metadata": {},
   "outputs": [
    {
     "data": {
      "text/plain": [
       "(100, 501, 3)"
      ]
     },
     "execution_count": 14,
     "metadata": {},
     "output_type": "execute_result"
    }
   ],
   "source": [
    "some_seqs_repeated[one_shift,:,:-1].shape"
   ]
  },
  {
   "cell_type": "code",
   "execution_count": null,
   "id": "f3da9396-50d7-41e4-877c-a4d3913e267f",
   "metadata": {},
   "outputs": [],
   "source": [
    "some_seqs_repeated.shape"
   ]
  },
  {
   "cell_type": "code",
   "execution_count": null,
   "id": "361f6a3f-0469-4bf2-a104-8107b18b531e",
   "metadata": {},
   "outputs": [],
   "source": []
  }
 ],
 "metadata": {
  "kernelspec": {
   "display_name": "tf2",
   "language": "python",
   "name": "tf2"
  },
  "language_info": {
   "codemirror_mode": {
    "name": "ipython",
    "version": 3
   },
   "file_extension": ".py",
   "mimetype": "text/x-python",
   "name": "python",
   "nbconvert_exporter": "python",
   "pygments_lexer": "ipython3",
   "version": "3.7.11"
  }
 },
 "nbformat": 4,
 "nbformat_minor": 5
}
